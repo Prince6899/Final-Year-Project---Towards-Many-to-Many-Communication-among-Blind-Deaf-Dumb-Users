{
 "cells": [
  {
   "cell_type": "code",
   "execution_count": 2,
   "metadata": {},
   "outputs": [
    {
     "data": {
      "text/plain": [
       "1"
      ]
     },
     "execution_count": 2,
     "metadata": {},
     "output_type": "execute_result"
    }
   ],
   "source": [
    "# Import the required module for text  \n",
    "# to speech conversion \n",
    "from gtts import gTTS \n",
    "  \n",
    "# This module is imported so that we can  \n",
    "# play the converted audio \n",
    "import os \n",
    "  \n",
    "# The text that you want to convert to audio \n",
    "mytext = 'Hello Good Morning Have a nice day Enjoy Happy New Year'\n",
    "  \n",
    "# Language in which you want to convert \n",
    "language = 'en'\n",
    "  \n",
    "# Passing the text and language to the engine,  \n",
    "# here we have marked slow=False. Which tells  \n",
    "# the module that the converted audio should  \n",
    "# have a high speed \n",
    "myobj = gTTS(text=mytext, lang=language, slow=False) \n",
    "  \n",
    "# Saving the converted audio in a mp3 file named \n",
    "# welcome  \n",
    "myobj.save(\"test.wav\") \n",
    "  \n",
    "# Playing the converted file \n",
    "os.system(\"mpg321 welcome.mp3\") "
   ]
  },
  {
   "cell_type": "code",
   "execution_count": 2,
   "metadata": {},
   "outputs": [],
   "source": [
    "#Convert Image to text and then text to speech"
   ]
  },
  {
   "cell_type": "code",
   "execution_count": 6,
   "metadata": {
    "scrolled": false
   },
   "outputs": [
    {
     "name": "stdout",
     "output_type": "stream",
     "text": [
      "<PIL.PngImagePlugin.PngImageFile image mode=P size=486x104 at 0x8C883C8>\n",
      "A Python Approach to Character\n",
      "Recognition\n",
      "Translated(src=en, dest=en, text=A Python Approach to Character\n",
      "Recognition, pronunciation=A Python Approach to Character\n",
      "Recognition, extra_data=\"{'translat...\")\n"
     ]
    }
   ],
   "source": [
    "import pytesseract    \n",
    "import os\n",
    "import glob \n",
    "import comtypes.client\n",
    "\n",
    "# adds image processing capabilities \n",
    "from PIL import Image     \n",
    "  \n",
    " # converts the text to speech   \n",
    "import pyttsx3            \n",
    "  \n",
    "#translates into the mentioned language \n",
    "from googletrans import Translator       \n",
    "\n",
    " # opening an image from the source path \n",
    "img = Image.open('text1.png')      \n",
    "  \n",
    "# describes image format in the output \n",
    "print(img)                           \n",
    "# path where the tesseract module is installed \n",
    "pytesseract.pytesseract.tesseract_cmd ='C:/Program Files (x86)/Tesseract-OCR/tesseract.exe'   \n",
    "# converts the image to result and saves it into result variable \n",
    "result = pytesseract.image_to_string(img)    \n",
    "# write text in a text file and save it to source path    \n",
    "with open('abc.txt',mode ='w') as file:      \n",
    "      \n",
    "                 file.write(result) \n",
    "                 print(result) \n",
    "                   \n",
    "p = Translator()                       \n",
    "# translates the text into german language \n",
    "k = p.translate(result,dest='english')       \n",
    "print(k) \n",
    "#engine = pyttsx3.init() \n",
    "engine = pyttsx3.init()\n",
    "engine.setProperty('rate', 80)    # Speed percent (can go over 100)\n",
    "engine.setProperty('volume', 0.9)  # Volume 0-1\n",
    "\n",
    "# an audio will be played which speaks the test if pyttsx3 recognizes it \n",
    "engine.say(k)                              \n",
    "engine.runAndWait() "
   ]
  },
  {
   "cell_type": "code",
   "execution_count": null,
   "metadata": {},
   "outputs": [],
   "source": []
  },
  {
   "cell_type": "code",
   "execution_count": null,
   "metadata": {},
   "outputs": [],
   "source": []
  },
  {
   "cell_type": "code",
   "execution_count": null,
   "metadata": {},
   "outputs": [],
   "source": []
  },
  {
   "cell_type": "code",
   "execution_count": null,
   "metadata": {},
   "outputs": [],
   "source": []
  },
  {
   "cell_type": "code",
   "execution_count": null,
   "metadata": {},
   "outputs": [],
   "source": []
  },
  {
   "cell_type": "code",
   "execution_count": null,
   "metadata": {},
   "outputs": [],
   "source": []
  }
 ],
 "metadata": {
  "kernelspec": {
   "display_name": "Python 3",
   "language": "python",
   "name": "python3"
  },
  "language_info": {
   "codemirror_mode": {
    "name": "ipython",
    "version": 3
   },
   "file_extension": ".py",
   "mimetype": "text/x-python",
   "name": "python",
   "nbconvert_exporter": "python",
   "pygments_lexer": "ipython3",
   "version": "3.6.10"
  }
 },
 "nbformat": 4,
 "nbformat_minor": 4
}
