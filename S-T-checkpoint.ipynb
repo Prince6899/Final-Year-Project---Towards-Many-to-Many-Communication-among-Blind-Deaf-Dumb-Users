{
 "cells": [
  {
   "cell_type": "code",
   "execution_count": 1,
   "metadata": {},
   "outputs": [
    {
     "name": "stdout",
     "output_type": "stream",
     "text": [
      "Processing chunk 1. Start = 0 end = 5000\n",
      "Could not understand audio\n",
      "Processing chunk 2. Start = 3500.0 end = 8500.0\n",
      "Processing chunk 3. Start = 7000.0 end = 12000.0\n",
      "Processing chunk 4. Start = 10500.0 end = 15500.0\n",
      "Processing chunk 5. Start = 14000.0 end = 16448\n",
      "Could not understand audio\n"
     ]
    }
   ],
   "source": [
    "from pydub import AudioSegment \n",
    "import speech_recognition as sr \n",
    "audio = AudioSegment.from_file(\"C:/Users/Prabhu/Documents/Sound recordings/Recording.m4a\")\n",
    "n = len(audio) \n",
    "counter = 1\n",
    "fh = open(\"recognized1.txt\", \"w+\") \n",
    "interval = 5 * 1000\n",
    "overlap = 1.5 * 1000\n",
    "start = 0\n",
    "end = 0\n",
    "flag = 0\n",
    "for i in range(0, 2 * n, interval): \n",
    "    if i == 0: \n",
    "        start = 0\n",
    "        end = interval \n",
    "    else: \n",
    "        start = end - overlap \n",
    "        end = start + interval\n",
    "    if end >= n: \n",
    "        end = n \n",
    "        flag = 1\n",
    "    chunk = audio[start:end] \n",
    "    filename = 'chunk'+str(counter)+'.wav'\n",
    "    chunk.export(filename, format =\"wav\")\n",
    "    print(\"Processing chunk \"+str(counter)+\". Start = \"+str(start)+\" end = \"+str(end)) \n",
    "\n",
    "    counter = counter + 1\n",
    "    AUDIO_FILE = filename \n",
    "    r = sr.Recognizer() \n",
    "    with sr.AudioFile(AUDIO_FILE) as source: \n",
    "        audio_listened = r.listen(source) \n",
    "    try:\t \n",
    "        rec = r.recognize_google(audio_listened)\n",
    "        fh.write(rec+\" \") \n",
    "    except sr.UnknownValueError: \n",
    "        print(\"Could not understand audio\") \n",
    "    except sr.RequestError as e: \n",
    "        print(\"Could not request results.\") \n",
    "    if flag == 1: \n",
    "        fh.close() \n",
    "        break"
   ]
  },
  {
   "cell_type": "code",
   "execution_count": 2,
   "metadata": {},
   "outputs": [],
   "source": [
    "with open('recognized1.txt', 'r') as file:\n",
    "    data = file.read().replace('\\n', '')"
   ]
  },
  {
   "cell_type": "code",
   "execution_count": 3,
   "metadata": {},
   "outputs": [
    {
     "data": {
      "text/plain": [
       "'hello I am I am student from Bank from Bangalore thank you '"
      ]
     },
     "execution_count": 3,
     "metadata": {},
     "output_type": "execute_result"
    }
   ],
   "source": [
    "data"
   ]
  },
  {
   "cell_type": "code",
   "execution_count": null,
   "metadata": {},
   "outputs": [],
   "source": []
  }
 ],
 "metadata": {
  "kernelspec": {
   "display_name": "Python 3",
   "language": "python",
   "name": "python3"
  },
  "language_info": {
   "codemirror_mode": {
    "name": "ipython",
    "version": 3
   },
   "file_extension": ".py",
   "mimetype": "text/x-python",
   "name": "python",
   "nbconvert_exporter": "python",
   "pygments_lexer": "ipython3",
   "version": "3.6.10"
  }
 },
 "nbformat": 4,
 "nbformat_minor": 2
}
